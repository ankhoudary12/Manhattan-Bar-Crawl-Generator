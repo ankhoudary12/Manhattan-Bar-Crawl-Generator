{
 "cells": [
  {
   "cell_type": "markdown",
   "metadata": {},
   "source": [
    "# The Purpose of This Notebook will be To highlight the Steps Necessary to Make the Manhattan Bar Crawl Generator APP"
   ]
  },
  {
   "cell_type": "markdown",
   "metadata": {},
   "source": [
    "# Data Collection"
   ]
  },
  {
   "cell_type": "code",
   "execution_count": 101,
   "metadata": {},
   "outputs": [],
   "source": [
    "# Data was scraped from Yelp using Scrapy, the code is below"
   ]
  },
  {
   "cell_type": "code",
   "execution_count": 102,
   "metadata": {},
   "outputs": [],
   "source": [
    "import scrapy\n",
    "import time\n",
    "\n",
    "neighborhoods=['https://www.yelp.com/search?start=0&cflt=nightlife&l=p:NY:New_York:Manhattan:Manhattan',\n",
    " 'https://www.yelp.com/search?start=0&cflt=nightlife&l=p:NY:New_York:Manhattan:Alphabet_City',\n",
    " 'https://www.yelp.com/search?start=0&cflt=nightlife&l=p:NY:New_York:Manhattan:Battery_Park',\n",
    " 'https://www.yelp.com/search?start=0&cflt=nightlife&l=p:NY:New_York:Manhattan:Central_Park',\n",
    " 'https://www.yelp.com/search?start=0&cflt=nightlife&l=p:NY:New_York:Manhattan:Chelsea',\n",
    " 'https://www.yelp.com/search?start=0&cflt=nightlife&l=p:NY:New_York:Manhattan:Chinatown',\n",
    " 'https://www.yelp.com/search?start=0&cflt=nightlife&l=p:NY:New_York:Manhattan:Civic_Center',\n",
    " 'https://www.yelp.com/search?start=0&cflt=nightlife&l=p:NY:New_York:Manhattan:East_Harlem',\n",
    " 'https://www.yelp.com/search?start=0&cflt=nightlife&l=p:NY:New_York:Manhattan:East_Village',\n",
    " 'https://www.yelp.com/search?start=0&cflt=nightlife&l=p:NY:New_York:Manhattan:Financial_District',\n",
    " 'https://www.yelp.com/search?start=0&cflt=nightlife&l=p:NY:New_York:Manhattan:Flatiron',\n",
    " 'https://www.yelp.com/search?start=0&cflt=nightlife&l=p:NY:New_York:Manhattan:Gramercy',\n",
    " 'https://www.yelp.com/search?start=0&cflt=nightlife&l=p:NY:New_York:Manhattan:Greenwich_Village',\n",
    " 'https://www.yelp.com/search?start=0&cflt=nightlife&l=p:NY:New_York:Manhattan:Harlem',\n",
    " \"https://www.yelp.com/search?start=0&cflt=nightlife&l=p:NY:New_York:Manhattan:Hell's_Kitchen\",\n",
    " 'https://www.yelp.com/search?start=0&cflt=nightlife&l=p:NY:New_York:Manhattan:Inwood',\n",
    " 'https://www.yelp.com/search?start=0&cflt=nightlife&l=p:NY:New_York:Manhattan:Kips_Bay',\n",
    " 'https://www.yelp.com/search?start=0&cflt=nightlife&l=p:NY:New_York:Manhattan:Koreatown',\n",
    " 'https://www.yelp.com/search?start=0&cflt=nightlife&l=p:NY:New_York:Manhattan:Little_Italy',\n",
    " 'https://www.yelp.com/search?start=0&cflt=nightlife&l=p:NY:New_York:Manhattan:Lower_East_Side',\n",
    " 'https://www.yelp.com/search?start=0&cflt=nightlife&l=p:NY:New_York:Manhattan:Manhattan_Valley',\n",
    " 'https://www.yelp.com/search?start=0&cflt=nightlife&l=p:NY:New_York:Manhattan:Marble_Hill',\n",
    " 'https://www.yelp.com/search?start=0&cflt=nightlife&l=p:NY:New_York:Manhattan:Meatpacking_District',\n",
    " 'https://www.yelp.com/search?start=0&cflt=nightlife&l=p:NY:New_York:Manhattan:Midtown_East',\n",
    " 'https://www.yelp.com/search?start=0&cflt=nightlife&l=p:NY:New_York:Manhattan:Midtown_West',\n",
    " 'https://www.yelp.com/search?start=0&cflt=nightlife&l=p:NY:New_York:Manhattan:Morningside_Heights',\n",
    " 'https://www.yelp.com/search?start=0&cflt=nightlife&l=p:NY:New_York:Manhattan:Murray_Hill',\n",
    " 'https://www.yelp.com/search?start=0&cflt=nightlife&l=p:NY:New_York:Manhattan:NoHo',\n",
    " 'https://www.yelp.com/search?start=0&cflt=nightlife&l=p:NY:New_York:Manhattan:Nolita',\n",
    " 'https://www.yelp.com/search?start=0&cflt=nightlife&l=p:NY:New_York:Manhattan:Roosevelt_Island',\n",
    " 'https://www.yelp.com/search?start=0&cflt=nightlife&l=p:NY:New_York:Manhattan:SoHo',\n",
    " 'https://www.yelp.com/search?start=0&cflt=nightlife&l=p:NY:New_York:Manhattan:South_Street_Seaport',\n",
    " 'https://www.yelp.com/search?start=0&cflt=nightlife&l=p:NY:New_York:Manhattan:South_Village',\n",
    " 'https://www.yelp.com/search?start=0&cflt=nightlife&l=p:NY:New_York:Manhattan:Stuyvesant_Town',\n",
    " 'https://www.yelp.com/search?start=0&cflt=nightlife&l=p:NY:New_York:Manhattan:Theater_District',\n",
    " 'https://www.yelp.com/search?start=0&cflt=nightlife&l=p:NY:New_York:Manhattan:TriBeCa',\n",
    " 'https://www.yelp.com/search?start=0&cflt=nightlife&l=p:NY:New_York:Manhattan:Two_Bridges',\n",
    " 'https://www.yelp.com/search?start=0&cflt=nightlife&l=p:NY:New_York:Manhattan:Union_Square',\n",
    " 'https://www.yelp.com/search?start=0&cflt=nightlife&l=p:NY:New_York:Manhattan:Upper_East_Side',\n",
    " 'https://www.yelp.com/search?start=0&cflt=nightlife&l=p:NY:New_York:Manhattan:Upper_West_Side',\n",
    " 'https://www.yelp.com/search?start=0&cflt=nightlife&l=p:NY:New_York:Manhattan:Washington_Heights',\n",
    " 'https://www.yelp.com/search?start=0&cflt=nightlife&l=p:NY:New_York:Manhattan:West_Village',\n",
    " 'https://www.yelp.com/search?start=0&cflt=nightlife&l=p:NY:New_York:Manhattan:Yorkville']\n",
    "\n",
    "\n",
    "\n",
    "\n",
    "\n",
    "class YelpSpider(scrapy.Spider):\n",
    "\n",
    "    name = 'yelp_bar_scraper'\n",
    "\n",
    "    custom_settings = {\n",
    "        \"DOWNLOAD_DELAY\": 3,\n",
    "        \"CONCURRENT_REQUESTS_PER_DOMAIN\": 3,\n",
    "        \"HTTPCACHE_ENABLED\": True,\n",
    "        'ROBOTSTXT_OBEY': False\n",
    "\n",
    "    }\n",
    "\n",
    "    start_urls = ['https://www.yelp.com']\n",
    "\n",
    "\n",
    "    def parse(self, response):\n",
    "\n",
    "        for link in neighborhoods:\n",
    "\n",
    "            try:\n",
    "                yield scrapy.Request(\n",
    "                url=link,\n",
    "                callback=self.parse_neighborhood\n",
    "                )\n",
    "\n",
    "            except:\n",
    "                continue\n",
    "\n",
    "\n",
    "    def parse_neighborhood(self, response):\n",
    "\n",
    "        for href in response.xpath('//span[@class=\"indexed-biz-name\"]/a/@href').extract():\n",
    "\n",
    "            try:\n",
    "                yield scrapy.Request(\n",
    "                url='https://www.yelp.com' + href,\n",
    "                callback=self.parse_bar,\n",
    "                meta={'url': 'https://www.yelp.com' + href}\n",
    "            )\n",
    "\n",
    "            except:\n",
    "                continue\n",
    "\n",
    "\n",
    "        next_url = 'https://www.yelp.com/'+ response.xpath('//div[@class=\"arrange_unit\"]/a/@href').extract()[-1]\n",
    "\n",
    "        yield scrapy.Request(\n",
    "            url=next_url,\n",
    "            callback=self.parse_neighborhood\n",
    "        )\n",
    "\n",
    "    def parse_bar(self, response):\n",
    "\n",
    "        url = response.request.meta['url']\n",
    "\n",
    "        name = response.xpath('//h1/text()').extract()[0]\n",
    "\n",
    "        neighborhood = response.xpath('//span[@class=\"neighborhood-str-list\"]/text()').extract()[0]\n",
    "\n",
    "        address= response.xpath('//strong[@class=\"street-address\"]/address/text()').extract()\n",
    "\n",
    "        price =  response.xpath('//span[@class=\"business-attribute price-range\"]/text()').extract()[0]\n",
    "\n",
    "        reviews = response.xpath('//div[@class=\"review-content\"]/p/text()').extract()\n",
    "\n",
    "        feature_names= response.xpath('//div[@class=\"short-def-list\"]/dl/dt/text()').extract()\n",
    "\n",
    "        feature_atts= response.xpath('//div[@class=\"short-def-list\"]/dl/dd/text()').extract()\n",
    "\n",
    "\n",
    "\n",
    "        yield {\n",
    "            'url': url,\n",
    "            'name': name,\n",
    "            'neighborhood': neighborhood,\n",
    "            'address': address,\n",
    "            'price': price,\n",
    "            'reviews': reviews,\n",
    "            'feature_names': feature_names,\n",
    "            'feature_atts': feature_atts\n",
    "            }\n"
   ]
  },
  {
   "cell_type": "markdown",
   "metadata": {},
   "source": [
    "# Data Cleaning"
   ]
  },
  {
   "cell_type": "code",
   "execution_count": 103,
   "metadata": {},
   "outputs": [],
   "source": [
    "import pandas as pd\n",
    "import numpy as np"
   ]
  },
  {
   "cell_type": "code",
   "execution_count": 104,
   "metadata": {},
   "outputs": [],
   "source": [
    "df=pd.read_json('yelp_bar.json')"
   ]
  },
  {
   "cell_type": "code",
   "execution_count": 105,
   "metadata": {},
   "outputs": [],
   "source": [
    "def clean_up(x):\n",
    "    '''This function will take a list as input. It will strip all whitespace and \\n from the first element of the string.'''\n",
    "    try:\n",
    "        import re\n",
    "        x=re.sub('\\s+',' ',x).strip()\n",
    "        return x\n",
    "    except:\n",
    "        return np.nan"
   ]
  },
  {
   "cell_type": "code",
   "execution_count": 106,
   "metadata": {},
   "outputs": [],
   "source": [
    "def clean_up_neighborhood(x):\n",
    "    '''Takes in string, removes whitespace, \\n and only selects first neighborhood listed'''\n",
    "    try:\n",
    "        import re\n",
    "        x=re.sub('\\s+',' ',x).strip()\n",
    "        if ',' in x:\n",
    "            return x[:x.index(',')]\n",
    "        else:\n",
    "            return x\n",
    "    except:\n",
    "        return np.nan"
   ]
  },
  {
   "cell_type": "code",
   "execution_count": 107,
   "metadata": {},
   "outputs": [],
   "source": [
    "def clean_up2(x):\n",
    "    '''This function will take a list of elements as input. It will strip all whitespace and \\n from all elements of the string.'''\n",
    "    a=[]\n",
    "    for i in x:\n",
    "        try:\n",
    "            import re\n",
    "            x=re.sub('\\s+',' ',i).strip()\n",
    "            a.append(x)\n",
    "        except:\n",
    "            return np.nan\n",
    "    return a"
   ]
  },
  {
   "cell_type": "code",
   "execution_count": 108,
   "metadata": {},
   "outputs": [],
   "source": [
    "df['address']=df.apply(lambda x: ' '.join(clean_up2(x['address'])),axis=1)"
   ]
  },
  {
   "cell_type": "code",
   "execution_count": 109,
   "metadata": {},
   "outputs": [],
   "source": [
    "df['name']=df.apply(lambda x: ' '.join(list(x['name'].split())),axis=1)"
   ]
  },
  {
   "cell_type": "code",
   "execution_count": 110,
   "metadata": {},
   "outputs": [],
   "source": [
    "df['neighborhood']=df.apply(lambda x: clean_up_neighborhood(x['neighborhood']),axis=1 ) #some bars list two neighborhoods, I chose first one"
   ]
  },
  {
   "cell_type": "code",
   "execution_count": 111,
   "metadata": {},
   "outputs": [],
   "source": [
    "def clean_up2(x):\n",
    "    '''This function will take a list of elements as input. It will strip all whitespace and \\n from all elements of the string.'''\n",
    "    a=[]\n",
    "    for i in x:\n",
    "        try:\n",
    "            import re\n",
    "            x=re.sub('\\s+',' ',i).strip()\n",
    "            a.append(x)\n",
    "        except:\n",
    "            return np.nan\n",
    "    return a"
   ]
  },
  {
   "cell_type": "code",
   "execution_count": 112,
   "metadata": {},
   "outputs": [],
   "source": [
    "reviews_df=df[['name','reviews']]\n",
    "reviews_df.to_pickle('yelp_reviews.pickle') #save this to work in separate notebook"
   ]
  },
  {
   "cell_type": "markdown",
   "metadata": {},
   "source": [
    "## Now use the GMaps geocoding api to get latitude and longitude for each venue"
   ]
  },
  {
   "cell_type": "code",
   "execution_count": null,
   "metadata": {},
   "outputs": [],
   "source": [
    "def gmaps_geocode(address):\n",
    "    '''This function takes an address and returns tuple pair of lat,lng coordinates using gmaps api'''\n",
    "    \n",
    "    import googlemaps\n",
    "    gmaps=googlemaps.Client(key='mykey')\n",
    "    \n",
    "    coord=[]\n",
    "    try:\n",
    "        geocode_result = gmaps.geocode(address)\n",
    "    \n",
    "        coord.append(geocode_result[0]['geometry']['location']['lat'])\n",
    "        coord.append(geocode_result[0]['geometry']['location']['lng'])\n",
    "        \n",
    "        return coord\n",
    "   \n",
    "    except:\n",
    "        return None\n",
    "        \n",
    "    \n",
    "    \n",
    "    "
   ]
  },
  {
   "cell_type": "code",
   "execution_count": null,
   "metadata": {},
   "outputs": [],
   "source": [
    "df['coordinates']=df.apply(lambda x: gmaps_geocode(x['address']), axis=1)"
   ]
  },
  {
   "cell_type": "code",
   "execution_count": 113,
   "metadata": {},
   "outputs": [],
   "source": [
    "df.to_pickle('bars_complete.pickle')"
   ]
  },
  {
   "cell_type": "markdown",
   "metadata": {},
   "source": [
    "# Topic Modeling using LDA"
   ]
  },
  {
   "cell_type": "code",
   "execution_count": 114,
   "metadata": {},
   "outputs": [],
   "source": [
    "df=pd.read_pickle('yelp_reviews.pickle')\n"
   ]
  },
  {
   "cell_type": "code",
   "execution_count": 115,
   "metadata": {},
   "outputs": [],
   "source": [
    "def clean_up3(x):\n",
    "    '''This function will take a list of elements as input. It will strip \\xa0 from all elements of the string.'''\n",
    "    import unicodedata\n",
    "    a=[]\n",
    "    for i in x:\n",
    "        i=unicodedata.normalize('NFKD', i)\n",
    "        a.append(i)\n",
    "    return a"
   ]
  },
  {
   "cell_type": "code",
   "execution_count": 116,
   "metadata": {},
   "outputs": [],
   "source": [
    "def joiner(x):\n",
    "    '''This function will take a list of strings as input. It will output a list with a single long string.'''\n",
    "    s=''\n",
    "    for i in x:\n",
    "        s+=i\n",
    "    return s"
   ]
  },
  {
   "cell_type": "code",
   "execution_count": 117,
   "metadata": {},
   "outputs": [],
   "source": [
    "df['reviews']=df.apply(lambda x: joiner(x['reviews']),axis=1) ###need to have each bar's reviews as big string in a list"
   ]
  },
  {
   "cell_type": "code",
   "execution_count": 118,
   "metadata": {},
   "outputs": [],
   "source": [
    "df.to_pickle('reviews_for_topics.pickle')"
   ]
  },
  {
   "cell_type": "code",
   "execution_count": 119,
   "metadata": {},
   "outputs": [],
   "source": [
    "from sklearn.feature_extraction.text import CountVectorizer"
   ]
  },
  {
   "cell_type": "code",
   "execution_count": 120,
   "metadata": {},
   "outputs": [],
   "source": [
    "count_vectorizer = CountVectorizer(  \n",
    "    ngram_range=(1, 2),\n",
    "    stop_words='english',\n",
    "    token_pattern=\"\\\\b[a-z][a-z]+\\\\b\",\n",
    "    min_df=5,)"
   ]
  },
  {
   "cell_type": "code",
   "execution_count": 121,
   "metadata": {},
   "outputs": [
    {
     "data": {
      "text/plain": [
       "CountVectorizer(analyzer='word', binary=False, decode_error='strict',\n",
       "        dtype=<class 'numpy.int64'>, encoding='utf-8', input='content',\n",
       "        lowercase=True, max_df=1.0, max_features=None, min_df=5,\n",
       "        ngram_range=(1, 2), preprocessor=None, stop_words='english',\n",
       "        strip_accents=None, token_pattern='\\\\b[a-z][a-z]+\\\\b',\n",
       "        tokenizer=None, vocabulary=None)"
      ]
     },
     "execution_count": 121,
     "metadata": {},
     "output_type": "execute_result"
    }
   ],
   "source": [
    "count_vectorizer.fit(df['reviews'])"
   ]
  },
  {
   "cell_type": "code",
   "execution_count": 122,
   "metadata": {},
   "outputs": [],
   "source": [
    "counts=count_vectorizer.transform(df['reviews'])"
   ]
  },
  {
   "cell_type": "code",
   "execution_count": 123,
   "metadata": {},
   "outputs": [],
   "source": [
    "from sklearn.decomposition import LatentDirichletAllocation\n"
   ]
  },
  {
   "cell_type": "code",
   "execution_count": 124,
   "metadata": {},
   "outputs": [],
   "source": [
    "lda = LatentDirichletAllocation(\n",
    "    n_components=10, \n",
    "    learning_method=\"online\", \n",
    "    verbose=1, \n",
    "    max_iter=5, \n",
    "    n_jobs=-1\n",
    ")"
   ]
  },
  {
   "cell_type": "code",
   "execution_count": 125,
   "metadata": {},
   "outputs": [
    {
     "name": "stdout",
     "output_type": "stream",
     "text": [
      "iteration: 1 of max_iter: 5\n",
      "iteration: 2 of max_iter: 5\n",
      "iteration: 3 of max_iter: 5\n",
      "iteration: 4 of max_iter: 5\n",
      "iteration: 5 of max_iter: 5\n"
     ]
    },
    {
     "data": {
      "text/plain": [
       "LatentDirichletAllocation(batch_size=128, doc_topic_prior=None,\n",
       "             evaluate_every=-1, learning_decay=0.7,\n",
       "             learning_method='online', learning_offset=10.0,\n",
       "             max_doc_update_iter=100, max_iter=5, mean_change_tol=0.001,\n",
       "             n_components=10, n_jobs=-1, n_topics=None, perp_tol=0.1,\n",
       "             random_state=None, topic_word_prior=None,\n",
       "             total_samples=1000000.0, verbose=1)"
      ]
     },
     "execution_count": 125,
     "metadata": {},
     "output_type": "execute_result"
    }
   ],
   "source": [
    "lda.fit(counts)"
   ]
  },
  {
   "cell_type": "code",
   "execution_count": 126,
   "metadata": {},
   "outputs": [],
   "source": [
    "def print_top_words(model, feature_names, n_top_words):\n",
    "    for topic_idx, topic in enumerate(model.components_):\n",
    "        message = \"Topic #%d: \" % topic_idx\n",
    "        message += \" \".join([feature_names[i]\n",
    "                             for i in topic.argsort()[:-n_top_words - 1:-1]])\n",
    "        print(message)\n",
    "        print('-'*50)"
   ]
  },
  {
   "cell_type": "code",
   "execution_count": 127,
   "metadata": {},
   "outputs": [
    {
     "name": "stdout",
     "output_type": "stream",
     "text": [
      "Topic #0: ramen japanese broth sake miso noodles sake bar gyoza curry pork\n",
      "--------------------------------------------------\n",
      "Topic #1: music people club night dance venue dj line cover crowd\n",
      "--------------------------------------------------\n",
      "Topic #2: food good great place just bar really like service nice\n",
      "--------------------------------------------------\n",
      "Topic #3: place bar good great drinks food like just time really\n",
      "--------------------------------------------------\n",
      "Topic #4: good food place great just restaurant service delicious like ordered\n",
      "--------------------------------------------------\n",
      "Topic #5: cigar cigars cheesesteak philly cigar bar cheesesteaks cigar lounge shorty hooters selection cigars\n",
      "--------------------------------------------------\n",
      "Topic #6: good food place bar time great service like nice just\n",
      "--------------------------------------------------\n",
      "Topic #7: food place bar good like great service came just got\n",
      "--------------------------------------------------\n",
      "Topic #8: hookah hookahs mint coal coals hookah lounge hookah bar hookah drinks drinks hookah belly dancer\n",
      "--------------------------------------------------\n",
      "Topic #9: food good restaurant service delicious great ordered place menu really\n",
      "--------------------------------------------------\n"
     ]
    }
   ],
   "source": [
    "print_top_words(lda, count_vectorizer.get_feature_names(), 10) ###viewing our 10 topics and associated words"
   ]
  },
  {
   "cell_type": "code",
   "execution_count": 128,
   "metadata": {},
   "outputs": [],
   "source": [
    "count_vectorizer = CountVectorizer(  \n",
    "    ngram_range=(1, 2),\n",
    "    stop_words='english',\n",
    "    token_pattern=\"\\\\b[a-z][a-z]+\\\\b\",\n",
    "    min_df=10,\n",
    "    max_df=0.8)    ###lets try running model again with higher min_df, and setting a max_df (get rid of words like food,good)"
   ]
  },
  {
   "cell_type": "code",
   "execution_count": 129,
   "metadata": {},
   "outputs": [
    {
     "data": {
      "text/plain": [
       "CountVectorizer(analyzer='word', binary=False, decode_error='strict',\n",
       "        dtype=<class 'numpy.int64'>, encoding='utf-8', input='content',\n",
       "        lowercase=True, max_df=0.8, max_features=None, min_df=10,\n",
       "        ngram_range=(1, 2), preprocessor=None, stop_words='english',\n",
       "        strip_accents=None, token_pattern='\\\\b[a-z][a-z]+\\\\b',\n",
       "        tokenizer=None, vocabulary=None)"
      ]
     },
     "execution_count": 129,
     "metadata": {},
     "output_type": "execute_result"
    }
   ],
   "source": [
    "count_vectorizer.fit(df['reviews'])"
   ]
  },
  {
   "cell_type": "code",
   "execution_count": 130,
   "metadata": {},
   "outputs": [],
   "source": [
    "counts=count_vectorizer.transform(df['reviews'])"
   ]
  },
  {
   "cell_type": "code",
   "execution_count": 131,
   "metadata": {},
   "outputs": [
    {
     "data": {
      "text/plain": [
       "(2431, 35653)"
      ]
     },
     "execution_count": 131,
     "metadata": {},
     "output_type": "execute_result"
    }
   ],
   "source": [
    "counts.shape ##we removed over half of our words, let's see how this turns out!!!"
   ]
  },
  {
   "cell_type": "code",
   "execution_count": 132,
   "metadata": {},
   "outputs": [],
   "source": [
    "lda = LatentDirichletAllocation(\n",
    "    n_components=10, \n",
    "    learning_method=\"online\", \n",
    "    verbose=1, \n",
    "    max_iter=5, \n",
    "    n_jobs=-1\n",
    ")   "
   ]
  },
  {
   "cell_type": "code",
   "execution_count": 133,
   "metadata": {},
   "outputs": [
    {
     "name": "stdout",
     "output_type": "stream",
     "text": [
      "iteration: 1 of max_iter: 5\n",
      "iteration: 2 of max_iter: 5\n",
      "iteration: 3 of max_iter: 5\n",
      "iteration: 4 of max_iter: 5\n",
      "iteration: 5 of max_iter: 5\n"
     ]
    },
    {
     "data": {
      "text/plain": [
       "LatentDirichletAllocation(batch_size=128, doc_topic_prior=None,\n",
       "             evaluate_every=-1, learning_decay=0.7,\n",
       "             learning_method='online', learning_offset=10.0,\n",
       "             max_doc_update_iter=100, max_iter=5, mean_change_tol=0.001,\n",
       "             n_components=10, n_jobs=-1, n_topics=None, perp_tol=0.1,\n",
       "             random_state=None, topic_word_prior=None,\n",
       "             total_samples=1000000.0, verbose=1)"
      ]
     },
     "execution_count": 133,
     "metadata": {},
     "output_type": "execute_result"
    }
   ],
   "source": [
    "lda.fit(counts)"
   ]
  },
  {
   "cell_type": "code",
   "execution_count": 134,
   "metadata": {},
   "outputs": [
    {
     "name": "stdout",
     "output_type": "stream",
     "text": [
      "Topic #0: pizza pizzas crust slice pie toppings pepperoni slices pies pizza place\n",
      "--------------------------------------------------\n",
      "Topic #1: restaurant wine brunch delicious pizza hour menu sauce table try\n",
      "--------------------------------------------------\n",
      "Topic #2: rice chicken coffee pork fried spicy korean sushi ramen soup\n",
      "--------------------------------------------------\n",
      "Topic #3: happy beer hour happy hour menu burger fries order bartender area\n",
      "--------------------------------------------------\n",
      "Topic #4: music fun bartender room going crowd know party small new\n",
      "--------------------------------------------------\n",
      "Topic #5: burger wings restaurant chicken menu happy fries order delicious sauce\n",
      "--------------------------------------------------\n",
      "Topic #6: order chicken restaurant menu delicious happy brunch table dinner burger\n",
      "--------------------------------------------------\n",
      "Topic #7: restaurant delicious wine menu dinner dish table amazing cheese brunch\n",
      "--------------------------------------------------\n",
      "Topic #8: restaurant delicious cheese menu brunch table try happy amazing order\n",
      "--------------------------------------------------\n",
      "Topic #9: delicious restaurant menu sauce order small cheese wine happy table\n",
      "--------------------------------------------------\n"
     ]
    }
   ],
   "source": [
    "print_top_words(lda, count_vectorizer.get_feature_names(), 10) ###viewing our 10 topics and associated words"
   ]
  },
  {
   "cell_type": "code",
   "execution_count": 135,
   "metadata": {},
   "outputs": [],
   "source": [
    "#lets try setting n_topics to 20 to get better granularity/more discrete topics**"
   ]
  },
  {
   "cell_type": "code",
   "execution_count": 136,
   "metadata": {},
   "outputs": [],
   "source": [
    "lda2 = LatentDirichletAllocation(\n",
    "    n_components=20, \n",
    "    learning_method=\"online\", \n",
    "    verbose=1, \n",
    "    max_iter=5, \n",
    "    n_jobs=-1\n",
    ")   "
   ]
  },
  {
   "cell_type": "code",
   "execution_count": 137,
   "metadata": {},
   "outputs": [
    {
     "name": "stdout",
     "output_type": "stream",
     "text": [
      "iteration: 1 of max_iter: 5\n",
      "iteration: 2 of max_iter: 5\n",
      "iteration: 3 of max_iter: 5\n",
      "iteration: 4 of max_iter: 5\n",
      "iteration: 5 of max_iter: 5\n"
     ]
    },
    {
     "data": {
      "text/plain": [
       "LatentDirichletAllocation(batch_size=128, doc_topic_prior=None,\n",
       "             evaluate_every=-1, learning_decay=0.7,\n",
       "             learning_method='online', learning_offset=10.0,\n",
       "             max_doc_update_iter=100, max_iter=5, mean_change_tol=0.001,\n",
       "             n_components=20, n_jobs=-1, n_topics=None, perp_tol=0.1,\n",
       "             random_state=None, topic_word_prior=None,\n",
       "             total_samples=1000000.0, verbose=1)"
      ]
     },
     "execution_count": 137,
     "metadata": {},
     "output_type": "execute_result"
    }
   ],
   "source": [
    "lda2.fit(counts)"
   ]
  },
  {
   "cell_type": "code",
   "execution_count": 138,
   "metadata": {},
   "outputs": [
    {
     "name": "stdout",
     "output_type": "stream",
     "text": [
      "Topic #0: hour order burger brunch delicious restaurant fries wings menu table\n",
      "--------------------------------------------------\n",
      "Topic #1: oysters delicious happy hour pizza restaurant happy hour menu wine table\n",
      "--------------------------------------------------\n",
      "Topic #2: restaurant delicious menu dinner brunch table amazing dish sauce try\n",
      "--------------------------------------------------\n",
      "Topic #3: dish pizza restaurant small menu delicious brunch try cheese beer\n",
      "--------------------------------------------------\n",
      "Topic #4: brunch hour happy order happy hour fries menu bartender burger cheese\n",
      "--------------------------------------------------\n",
      "Topic #5: bartender music hour area cocktails table happy cool bartenders fun\n",
      "--------------------------------------------------\n",
      "Topic #6: wine restaurant delicious order cheese try fries small happy table\n",
      "--------------------------------------------------\n",
      "Topic #7: beer happy burger hour happy hour fries wings chicken beers tacos\n",
      "--------------------------------------------------\n",
      "Topic #8: restaurant delicious menu wine order cheese small sauce amazing happy\n",
      "--------------------------------------------------\n",
      "Topic #9: music club venue dance fun hookah party line dj going\n",
      "--------------------------------------------------\n",
      "Topic #10: view rooftop views rooftop bar building empire empire state elevator state state building\n",
      "--------------------------------------------------\n",
      "Topic #11: beer order burger cheese happy going chicken restaurant fries delicious\n",
      "--------------------------------------------------\n",
      "Topic #12: restaurant wine menu try brunch fries table delicious sauce chicken\n",
      "--------------------------------------------------\n",
      "Topic #13: wine coffee cheese small selection cozy wines glass date happy\n",
      "--------------------------------------------------\n",
      "Topic #14: wine menu restaurant delicious amazing order burger brunch table cheese\n",
      "--------------------------------------------------\n",
      "Topic #15: wine delicious restaurant dinner burger hour fries happy amazing order\n",
      "--------------------------------------------------\n",
      "Topic #16: brunch restaurant hour table menu happy delicious chicken happy hour cheese\n",
      "--------------------------------------------------\n",
      "Topic #17: crepe crepes nutella little cafe marshmallows neighborhood love savory said pay dulce braised beef\n",
      "--------------------------------------------------\n",
      "Topic #18: ramen japanese broth miso noodles sake pork bowl sake bar gyoza\n",
      "--------------------------------------------------\n",
      "Topic #19: brunch wine restaurant delicious dinner table try beer menu cheese\n",
      "--------------------------------------------------\n"
     ]
    }
   ],
   "source": [
    "print_top_words(lda2, count_vectorizer.get_feature_names(), 10) "
   ]
  },
  {
   "cell_type": "code",
   "execution_count": 139,
   "metadata": {},
   "outputs": [],
   "source": [
    "count_vectorizer3 = CountVectorizer(  ###lets set max df to 0.3 to try and get better, more unique topics \n",
    "    ngram_range=(1, 2),\n",
    "    stop_words='english',\n",
    "    token_pattern=\"\\\\b[a-z][a-z]+\\\\b\",\n",
    "    min_df=10,\n",
    "    max_df=0.3)"
   ]
  },
  {
   "cell_type": "code",
   "execution_count": 140,
   "metadata": {},
   "outputs": [],
   "source": [
    "count_vectorizer3.fit(df['reviews'])\n",
    "counts3=count_vectorizer3.transform(df['reviews'])"
   ]
  },
  {
   "cell_type": "code",
   "execution_count": 141,
   "metadata": {},
   "outputs": [],
   "source": [
    "lda3 = LatentDirichletAllocation(\n",
    "    n_components=10, \n",
    "    learning_method=\"online\", \n",
    "    verbose=1, \n",
    "    max_iter=5, \n",
    "    n_jobs=-1\n",
    ")   "
   ]
  },
  {
   "cell_type": "code",
   "execution_count": 142,
   "metadata": {},
   "outputs": [
    {
     "name": "stdout",
     "output_type": "stream",
     "text": [
      "iteration: 1 of max_iter: 5\n",
      "iteration: 2 of max_iter: 5\n",
      "iteration: 3 of max_iter: 5\n",
      "iteration: 4 of max_iter: 5\n",
      "iteration: 5 of max_iter: 5\n"
     ]
    },
    {
     "data": {
      "text/plain": [
       "LatentDirichletAllocation(batch_size=128, doc_topic_prior=None,\n",
       "             evaluate_every=-1, learning_decay=0.7,\n",
       "             learning_method='online', learning_offset=10.0,\n",
       "             max_doc_update_iter=100, max_iter=5, mean_change_tol=0.001,\n",
       "             n_components=10, n_jobs=-1, n_topics=None, perp_tol=0.1,\n",
       "             random_state=None, topic_word_prior=None,\n",
       "             total_samples=1000000.0, verbose=1)"
      ]
     },
     "execution_count": 142,
     "metadata": {},
     "output_type": "execute_result"
    }
   ],
   "source": [
    "lda3.fit(counts3)"
   ]
  },
  {
   "cell_type": "code",
   "execution_count": 143,
   "metadata": {},
   "outputs": [
    {
     "name": "stdout",
     "output_type": "stream",
     "text": [
      "Topic #0: club dance venue line dj jazz event cover karaoke dancing stage charge tickets comedy bouncer\n",
      "--------------------------------------------------\n",
      "Topic #1: pasta italian tacos pizza shrimp steak oysters french fish salmon entree octopus portions plates lamb\n",
      "--------------------------------------------------\n",
      "Topic #2: view rooftop views hotel outdoor rooftop bar roof summer building elevator german lounge park empire games\n",
      "--------------------------------------------------\n",
      "Topic #3: cheesesteak middle eastern sandwich game soup eastern philly wings pasta eggs italian toast pork french east\n",
      "--------------------------------------------------\n",
      "Topic #4: hookah indian naan hookahs mint indian food paneer coal masala coals tikka smoke belly hookah lounge flavors\n",
      "--------------------------------------------------\n",
      "Topic #5: sandwich wings eggs mac bacon mac cheese breakfast toast burgers pizza french steak avocado coffee egg\n",
      "--------------------------------------------------\n",
      "Topic #6: ramen sushi sake japanese thai curry spicy roll rolls miso noodles broth pad rice pork\n",
      "--------------------------------------------------\n",
      "Topic #7: essex oysters chelsea market oyster oyster happy chelsea gay market piano hour oysters briny gay bar dozen games oyster bar\n",
      "--------------------------------------------------\n",
      "Topic #8: rice steak coffee pork duck beef chocolate tea korean soup egg cream spicy dumplings ice\n",
      "--------------------------------------------------\n",
      "Topic #9: game dive wings pub sports irish east watch dive bar village hotel drinking owner hang pool\n",
      "--------------------------------------------------\n"
     ]
    }
   ],
   "source": [
    "print_top_words(lda3, count_vectorizer3.get_feature_names(), 15) ##let's print 15 words to see if that makes topics more obvious"
   ]
  },
  {
   "cell_type": "code",
   "execution_count": 144,
   "metadata": {},
   "outputs": [],
   "source": [
    "# Try one last time with 30 topics "
   ]
  },
  {
   "cell_type": "code",
   "execution_count": 145,
   "metadata": {},
   "outputs": [],
   "source": [
    "lda5= LatentDirichletAllocation(\n",
    "    n_components=30, \n",
    "    learning_method=\"online\", \n",
    "    verbose=1, \n",
    "    max_iter=5, \n",
    "    n_jobs=-1\n",
    ")   "
   ]
  },
  {
   "cell_type": "code",
   "execution_count": 146,
   "metadata": {},
   "outputs": [
    {
     "name": "stdout",
     "output_type": "stream",
     "text": [
      "iteration: 1 of max_iter: 5\n",
      "iteration: 2 of max_iter: 5\n",
      "iteration: 3 of max_iter: 5\n",
      "iteration: 4 of max_iter: 5\n",
      "iteration: 5 of max_iter: 5\n"
     ]
    },
    {
     "data": {
      "text/plain": [
       "LatentDirichletAllocation(batch_size=128, doc_topic_prior=None,\n",
       "             evaluate_every=-1, learning_decay=0.7,\n",
       "             learning_method='online', learning_offset=10.0,\n",
       "             max_doc_update_iter=100, max_iter=5, mean_change_tol=0.001,\n",
       "             n_components=30, n_jobs=-1, n_topics=None, perp_tol=0.1,\n",
       "             random_state=None, topic_word_prior=None,\n",
       "             total_samples=1000000.0, verbose=1)"
      ]
     },
     "execution_count": 146,
     "metadata": {},
     "output_type": "execute_result"
    }
   ],
   "source": [
    "lda5.fit(counts3)"
   ]
  },
  {
   "cell_type": "code",
   "execution_count": 147,
   "metadata": {},
   "outputs": [
    {
     "name": "stdout",
     "output_type": "stream",
     "text": [
      "Topic #0: pasta tacos eggs shrimp entree gluten free gluten flavorful steak east husband pizza ravioli italian game\n",
      "--------------------------------------------------\n",
      "Topic #1: pasta italian gnocchi spaghetti ravioli oil meatballs italian food pastas al burrata tiramisu mozzarella olive italy\n",
      "--------------------------------------------------\n",
      "Topic #2: ramen paella games spicy bacon ues steak mac chocolate rice fish shared tacos portions east\n",
      "--------------------------------------------------\n",
      "Topic #3: pizza pasta sports wings game coffee eggs sandwich salmon crepe games east crepes bacon egg\n",
      "--------------------------------------------------\n",
      "Topic #4: pizza crust italian breakfast pizzas soup mozzarella game bacon tomato sports spicy slice egg pies\n",
      "--------------------------------------------------\n",
      "Topic #5: eggs steak tacos cream avocado corn pasta chips fish ice bacon pub groupon irish portions\n",
      "--------------------------------------------------\n",
      "Topic #6: pizza eggs slice fish pasta crust french toast ues pie spicy entree italian line coffee\n",
      "--------------------------------------------------\n",
      "Topic #7: pizza crust pizzas pie slice oven slices toppings stone street mozzarella pies pepperoni margherita pizza place pizza good\n",
      "--------------------------------------------------\n",
      "Topic #8: gay pizza steak coffee eggs chocolate avocado tapas wines game ues fish meet toast gay bar\n",
      "--------------------------------------------------\n",
      "Topic #9: hotel speakeasy wines wine bar lounge hidden whiskey gin unique gem classy cigar lit lighting ambience\n",
      "--------------------------------------------------\n",
      "Topic #10: steak french eggs bacon wings diner pizza breakfast irish pasta upper east game east oysters sandwich\n",
      "--------------------------------------------------\n",
      "Topic #11: rice pork spicy duck beef soup sushi shrimp korean seafood dumplings fish garlic steak tender\n",
      "--------------------------------------------------\n",
      "Topic #12: steak coffee french eggs sandwich salmon toast bacon oysters grilled chocolate potatoes cake breakfast mac\n",
      "--------------------------------------------------\n",
      "Topic #13: hookah wings irish shrimp pub game italian hookahs soup spicy sports watch flavors lounge charge\n",
      "--------------------------------------------------\n",
      "Topic #14: view rooftop views hotel rooftop bar roof building elevator summer empire outdoor empire state state state building weather\n",
      "--------------------------------------------------\n",
      "Topic #15: hookah smoke hookahs mint lounge coal coals tea belly cafe hookah lounge hookah bar flavors smoking hookah drinks\n",
      "--------------------------------------------------\n",
      "Topic #16: paella wings seafood steak mac shrimp mac cheese octopus pasta ues salmon eggs italian medium bacon\n",
      "--------------------------------------------------\n",
      "Topic #17: wings game dive pub sports irish watch play bathroom dj owner dive bar games card event\n",
      "--------------------------------------------------\n",
      "Topic #18: crepe crepes nutella latte savory french coffee charge beef colonial wings chocolate corner cafe toast\n",
      "--------------------------------------------------\n",
      "Topic #19: eggs steak coffee french toast chocolate bacon irish cream medium games beef portions ues thank\n",
      "--------------------------------------------------\n",
      "Topic #20: club venue dance jazz line cover stage tickets comedy band event coat minimum dancing shows\n",
      "--------------------------------------------------\n",
      "Topic #21: biscuits steak gravy breakfast wings coffee bacon spoon eggs ues tapas egg irish gay salmon\n",
      "--------------------------------------------------\n",
      "Topic #22: italian pizza pasta fish french bolognese egg coffee ramen delivery chocolate entree eggs salmon charge\n",
      "--------------------------------------------------\n",
      "Topic #23: ramen broth miso japanese bowl noodles gyoza sapporo chashu egg karaage ramen noodles bowls sake bar tokyo\n",
      "--------------------------------------------------\n",
      "Topic #24: tacos mexican guacamole margaritas chips taco margarita fish guac salsa nachos shrimp fish tacos beans rice\n",
      "--------------------------------------------------\n",
      "Topic #25: soup coffee cafe chocolate wings eggs gnocchi bacon pub upper mac cheese sandwich bar food mac seafood\n",
      "--------------------------------------------------\n",
      "Topic #26: pasta italian game italy little italy sangria gnocchi soup pizza ues dog service dog oil portions wings\n",
      "--------------------------------------------------\n",
      "Topic #27: tacos fish pasta wings pizza mexican east italian chips upper eggs avocado soup upper east grilled\n",
      "--------------------------------------------------\n",
      "Topic #28: french steak ues wings pizza game eggs creme gluten potatoes hostess chocolate desserts avocado bacon\n",
      "--------------------------------------------------\n",
      "Topic #29: wings east coffee pizza eggs passport game chocolate tasted like simple trivia irish italy sandwich soup\n",
      "--------------------------------------------------\n"
     ]
    }
   ],
   "source": [
    "print_top_words(lda5, count_vectorizer3.get_feature_names(), 15)"
   ]
  },
  {
   "cell_type": "markdown",
   "metadata": {},
   "source": [
    "# Topic Modeling With NMF"
   ]
  },
  {
   "cell_type": "code",
   "execution_count": 148,
   "metadata": {},
   "outputs": [],
   "source": [
    "df=pd.read_pickle('reviews_for_topics.pickle')"
   ]
  },
  {
   "cell_type": "code",
   "execution_count": 149,
   "metadata": {},
   "outputs": [],
   "source": [
    "from sklearn.feature_extraction.text import TfidfVectorizer"
   ]
  },
  {
   "cell_type": "code",
   "execution_count": 150,
   "metadata": {},
   "outputs": [],
   "source": [
    "tfidf_vectorizer=TfidfVectorizer(max_df=0.3, min_df=0.01, stop_words='english')"
   ]
  },
  {
   "cell_type": "code",
   "execution_count": 151,
   "metadata": {},
   "outputs": [
    {
     "data": {
      "text/plain": [
       "TfidfVectorizer(analyzer='word', binary=False, decode_error='strict',\n",
       "        dtype=<class 'numpy.int64'>, encoding='utf-8', input='content',\n",
       "        lowercase=True, max_df=0.3, max_features=None, min_df=0.01,\n",
       "        ngram_range=(1, 1), norm='l2', preprocessor=None, smooth_idf=True,\n",
       "        stop_words='english', strip_accents=None, sublinear_tf=False,\n",
       "        token_pattern='(?u)\\\\b\\\\w\\\\w+\\\\b', tokenizer=None, use_idf=True,\n",
       "        vocabulary=None)"
      ]
     },
     "execution_count": 151,
     "metadata": {},
     "output_type": "execute_result"
    }
   ],
   "source": [
    "tfidf_vectorizer.fit(df['reviews'])"
   ]
  },
  {
   "cell_type": "code",
   "execution_count": 152,
   "metadata": {},
   "outputs": [],
   "source": [
    "counts_nmf=tfidf_vectorizer.transform(df['reviews'])"
   ]
  },
  {
   "cell_type": "code",
   "execution_count": 153,
   "metadata": {},
   "outputs": [],
   "source": [
    "from sklearn.decomposition import NMF"
   ]
  },
  {
   "cell_type": "code",
   "execution_count": 154,
   "metadata": {},
   "outputs": [],
   "source": [
    "nmf= NMF (n_components=30,\n",
    "         random_state=1, \n",
    "          alpha=.1, l1_ratio=.5,\n",
    "          init='nndsvd')"
   ]
  },
  {
   "cell_type": "code",
   "execution_count": 155,
   "metadata": {},
   "outputs": [
    {
     "data": {
      "text/plain": [
       "NMF(alpha=0.1, beta_loss='frobenius', init='nndsvd', l1_ratio=0.5,\n",
       "  max_iter=200, n_components=30, random_state=1, shuffle=False,\n",
       "  solver='cd', tol=0.0001, verbose=0)"
      ]
     },
     "execution_count": 155,
     "metadata": {},
     "output_type": "execute_result"
    }
   ],
   "source": [
    "nmf.fit(counts_nmf)"
   ]
  },
  {
   "cell_type": "code",
   "execution_count": 156,
   "metadata": {},
   "outputs": [],
   "source": [
    "def print_top_words(model, feature_names, n_top_words):\n",
    "    for topic_idx, topic in enumerate(model.components_):\n",
    "        message = \"Topic #%d: \" % topic_idx\n",
    "        message += \" \".join([feature_names[i]\n",
    "                             for i in topic.argsort()[:-n_top_words - 1:-1]])\n",
    "        print(message)\n",
    "        print('-'*50)"
   ]
  },
  {
   "cell_type": "code",
   "execution_count": 157,
   "metadata": {},
   "outputs": [
    {
     "name": "stdout",
     "output_type": "stream",
     "text": [
      "Topic #0: owner east village upstairs event sandwich whiskey west waited downstairs craft mac speakeasy glasses tap\n",
      "--------------------------------------------------\n",
      "Topic #1: club dance dj line bouncers cover coat dancing bouncer girls hop promoter security hip vip\n",
      "--------------------------------------------------\n",
      "Topic #2: irish pub pie guinness fish pint chips pot pubs ireland shepherd onion st shepherds midtown\n",
      "--------------------------------------------------\n",
      "Topic #3: tacos mexican taco margaritas guacamole margarita chips guac salsa fish burrito nachos enchiladas tortilla corn\n",
      "--------------------------------------------------\n",
      "Topic #4: rooftop view views roof empire elevator building state rooftops outdoor summer hotel indoor sunset skyline\n",
      "--------------------------------------------------\n",
      "Topic #5: hookah hookahs smoke coal lounge mint smoking cafe mist charge dj tea dancer belly sangria\n",
      "--------------------------------------------------\n",
      "Topic #6: pasta italian gnocchi spaghetti ravioli pastas tiramisu meatballs burrata al italy bolognese oil cacio ragu\n",
      "--------------------------------------------------\n",
      "Topic #7: karaoke songs song sing rooms singing private mics english sound korean chinese book remote books\n",
      "--------------------------------------------------\n",
      "Topic #8: venue stage concert band performance sound hall tickets bands acoustics shows artists event balcony venues\n",
      "--------------------------------------------------\n",
      "Topic #9: pizza pizzas crust pie slice pepperoni pies toppings oven slices mozzarella margherita truffle prosciutto parm\n",
      "--------------------------------------------------\n",
      "Topic #10: jazz band musicians cover club piano minimum performance charge listen stage listening singer blues hear\n",
      "--------------------------------------------------\n",
      "Topic #11: comedy comedians tickets comics funny audience club minimum shows comedian jokes hilarious laugh cellar laughing\n",
      "--------------------------------------------------\n",
      "Topic #12: theater theatre broadway actors audience shows performance musical performers cast center lincoln theaters cabaret row\n",
      "--------------------------------------------------\n",
      "Topic #13: dive jukebox divey shot juke pbr shots cash regulars locals rock box bathroom village punk\n",
      "--------------------------------------------------\n",
      "Topic #14: hotel lounge lobby staying square breakfast located library midtown tea plaza martini couches classy chairs\n",
      "--------------------------------------------------\n",
      "Topic #15: eggs toast breakfast bottomless benedict french sandwich bacon avocado mimosas egg pancakes bloody salmon mary\n",
      "--------------------------------------------------\n",
      "Topic #16: pool darts play pong ping games jukebox hall bouncer game dart ball east players hang\n",
      "--------------------------------------------------\n",
      "Topic #17: oysters oyster lobster seafood dozen hh fish raw roll clams crab shrimp salmon clam coast\n",
      "--------------------------------------------------\n",
      "Topic #18: sushi rolls roll sashimi sake japanese tuna rice miso tempura salmon asian fusion groupon fish\n",
      "--------------------------------------------------\n",
      "Topic #19: korean soju rice kimchi bbq pork pancake belly spicy beef ktown seafood soy noodles marinated\n",
      "--------------------------------------------------\n",
      "Topic #20: coffee cafe latte shop tea barista pastries laptop wifi matcha espresso milk iced cappuccino study\n",
      "--------------------------------------------------\n",
      "Topic #21: sports game games watch tvs pong tv football trivia nachos play fans screens darts college\n",
      "--------------------------------------------------\n",
      "Topic #22: duck french chocolate octopus tapas lamb lobster seafood tuna scallops tartare chef cake cream foie\n",
      "--------------------------------------------------\n",
      "Topic #23: ramen japanese broth sake miso pork noodles bowl spicy curry rice egg soup noodle cat\n",
      "--------------------------------------------------\n",
      "Topic #24: steak steakhouse steaks ribeye medium rare filet porterhouse mignon potatoes mashed sides steakhouses rib bone\n",
      "--------------------------------------------------\n",
      "Topic #25: thai indian curry rice pad noodles spicy dumplings soup delivery spice chinese drunken rolls noodle\n",
      "--------------------------------------------------\n",
      "Topic #26: cigar smoke smoking lounge fee club ventilation shop member scotch books inn regulars whiskey men\n",
      "--------------------------------------------------\n",
      "Topic #27: gay drag dance dancers piano queens straight dancing men queen cover boys guys community older\n",
      "--------------------------------------------------\n",
      "Topic #28: harlem tour owner sangria dj punch jerk waffles rum bottomless mimosa grits german uptown african\n",
      "--------------------------------------------------\n",
      "Topic #29: wings buffalo bbq nachos sports burgers wing boneless waffle garlic tots sandwich sticks tater game\n",
      "--------------------------------------------------\n"
     ]
    }
   ],
   "source": [
    "print_top_words(nmf, tfidf_vectorizer.get_feature_names(), 15)"
   ]
  },
  {
   "cell_type": "code",
   "execution_count": 159,
   "metadata": {},
   "outputs": [],
   "source": [
    "topic_probs=nmf.transform(counts_nmf)"
   ]
  },
  {
   "cell_type": "code",
   "execution_count": 160,
   "metadata": {},
   "outputs": [],
   "source": [
    "topic_df=pd.DataFrame(topic_probs)"
   ]
  },
  {
   "cell_type": "code",
   "execution_count": 161,
   "metadata": {},
   "outputs": [],
   "source": [
    "topics=['speakeasy','club/dance','irish','mexican','rooftop','hookah',\\\n",
    "       'italian','karaoke','concert','pizza','jazz/blues','comedy',\\\n",
    "       'theater','dive','hotel','brunch','pool/games','seafood','sushi',\\\n",
    "       'korean','cafe','sports_1','french','ramen','steak','thai',\\\n",
    "       'smoking','lgbt','african/caribbean','sports_2']"
   ]
  },
  {
   "cell_type": "code",
   "execution_count": 162,
   "metadata": {},
   "outputs": [],
   "source": [
    "topic_df.columns=topics"
   ]
  },
  {
   "cell_type": "code",
   "execution_count": 163,
   "metadata": {},
   "outputs": [],
   "source": [
    "df=pd.merge(df,topic_df, left_index=True,right_index=True)"
   ]
  },
  {
   "cell_type": "code",
   "execution_count": 164,
   "metadata": {},
   "outputs": [],
   "source": [
    "df.to_pickle('bar_topics.pickle')"
   ]
  },
  {
   "cell_type": "markdown",
   "metadata": {},
   "source": [
    "# Building the Recommender"
   ]
  },
  {
   "cell_type": "code",
   "execution_count": 165,
   "metadata": {},
   "outputs": [],
   "source": [
    "from sklearn.metrics.pairwise import cosine_similarity\n"
   ]
  },
  {
   "cell_type": "code",
   "execution_count": 166,
   "metadata": {},
   "outputs": [],
   "source": [
    "df_topics=df.drop(['name','reviews'],axis=1)"
   ]
  },
  {
   "cell_type": "code",
   "execution_count": 167,
   "metadata": {},
   "outputs": [],
   "source": [
    "dists=cosine_similarity(df_topics)"
   ]
  },
  {
   "cell_type": "code",
   "execution_count": 168,
   "metadata": {},
   "outputs": [],
   "source": [
    "sims_df=pd.DataFrame(dists)"
   ]
  },
  {
   "cell_type": "code",
   "execution_count": 169,
   "metadata": {},
   "outputs": [],
   "source": [
    "sims_df.index=df_topics.index"
   ]
  },
  {
   "cell_type": "code",
   "execution_count": 170,
   "metadata": {},
   "outputs": [],
   "source": [
    "sims_df.columns=df_topics.index"
   ]
  },
  {
   "cell_type": "code",
   "execution_count": 183,
   "metadata": {},
   "outputs": [],
   "source": [
    "sims_df.to_pickle('bar_similarity.pickle')"
   ]
  },
  {
   "cell_type": "code",
   "execution_count": 187,
   "metadata": {},
   "outputs": [
    {
     "data": {
      "image/png": "[encoded data removed]",
      "text/plain": [
       "<matplotlib.figure.Figure at 0x1a348c4e80>"
      ]
     },
     "metadata": {},
     "output_type": "display_data"
    }
   ],
   "source": [
    "import matplotlib.pyplot as plt\n",
    "import seaborn as sns\n",
    "\n",
    "plt.figure(figsize=(15,15))\n",
    "plt.xticks(size=20)\n",
    "plt.yticks(size=15)\n",
    "heat=sns.heatmap(df_bt.groupby('neighborhood').mean(), cmap=\"BuPu\")\n",
    "plt.tight_layout()\n",
    "#plt.savefig('heatmap.pdf')"
   ]
  },
  {
   "cell_type": "code",
   "execution_count": 188,
   "metadata": {},
   "outputs": [],
   "source": [
    "sims_df=pd.read_pickle('bar_similarity.pickle')"
   ]
  },
  {
   "cell_type": "code",
   "execution_count": 189,
   "metadata": {},
   "outputs": [],
   "source": [
    "df=pd.read_pickle('bars_complete.pickle')"
   ]
  },
  {
   "cell_type": "code",
   "execution_count": 190,
   "metadata": {},
   "outputs": [],
   "source": [
    "bars_df=df[['name','neighborhood','price','url']]"
   ]
  },
  {
   "cell_type": "code",
   "execution_count": 191,
   "metadata": {},
   "outputs": [],
   "source": [
    "df_bt=bars_df.join(df_topics)"
   ]
  },
  {
   "cell_type": "code",
   "execution_count": 192,
   "metadata": {},
   "outputs": [],
   "source": [
    "bars_df.set_index(bars_df.name, inplace=True)"
   ]
  },
  {
   "cell_type": "code",
   "execution_count": null,
   "metadata": {},
   "outputs": [],
   "source": [
    "def find_nearest_bars(bar, d=1 ,number=10):\n",
    "    from math import radians, cos, sin, asin, sqrt\n",
    "    import pandas as pd\n",
    "\n",
    "    def haversine(lon1, lat1, lon2, lat2):\n",
    "        \"\"\"\n",
    "        Calculate the great circle distance between two points \n",
    "        on the earth (specified in decimal degrees)\n",
    "        \"\"\"\n",
    "        # convert decimal degrees to radians \n",
    "        lon1, lat1, lon2, lat2 = map(radians, [lon1, lat1, lon2, lat2])\n",
    "\n",
    "        # haversine formula \n",
    "        dlon = lon2 - lon1 \n",
    "        dlat = lat2 - lat1 \n",
    "        a = sin(dlat/2)**2 + cos(lat1) * cos(lat2) * sin(dlon/2)**2\n",
    "        c = 2 * asin(sqrt(a)) \n",
    "        r = 3956 # For miles\n",
    "        return c * r\n",
    "\n",
    "    def is_in_area(center_lon, center_lat, test_lon, test_lat, radius = 1):\n",
    "        a = haversine(center_lon, center_lat, test_lon, test_lat)\n",
    "        if a <= radius:\n",
    "            return True\n",
    "        return False\n",
    "    \n",
    "    \n",
    "    import jellyfish\n",
    "\n",
    "    def get_closest_match(x, list_strings):\n",
    "\n",
    "        best_score= 0\n",
    "        best_match=None\n",
    "\n",
    "        for title in list_strings:\n",
    "\n",
    "            current_score=jellyfish.jaro_winkler(x, title)\n",
    "\n",
    "            if current_score > best_score:\n",
    "                best_score = current_score\n",
    "                best_match = title \n",
    "\n",
    "        if best_score > 0.75:\n",
    "            return best_match\n",
    "\n",
    "        else:\n",
    "            return None\n",
    "    \n",
    "    \n",
    "    bar = get_closest_match(bar, bars_df.index)\n",
    "    \n",
    "    bool_array=[]\n",
    "    \n",
    "    for i in bars_df['coordinates']:\n",
    "        \n",
    "        try:\n",
    "            bool_array.append(is_in_area(bars_df[bars_df.index==bar]['coordinates'][0][0]\\\n",
    "                                         ,bars_df[bars_df.index==bar]['coordinates'][0][1],\\\n",
    "                                         i[0],i[1], radius=d))\n",
    "        \n",
    "        except:\n",
    "            bool_array.append(None)\n",
    "            \n",
    "    bool_dict=dict(zip(bars_df.index,bool_array))\n",
    "    \n",
    "    bool_df=pd.Series(bool_dict).to_frame()\n",
    "    \n",
    "    matching_bars=sims_df.join(bool_df[bool_df[0]==True], how='inner')\n",
    "    \n",
    "    final_bars=bars_df.join(matching_bars[bar].sort_values(ascending=False)[0:number+1], how='right')\n",
    "    \n",
    "    return final_bars.sort_values(by=bar, ascending=False)\n",
    "\n",
    "    "
   ]
  },
  {
   "cell_type": "code",
   "execution_count": null,
   "metadata": {},
   "outputs": [],
   "source": [
    "def pack_bars(df):\n",
    "    bars=[]\n",
    "    \n",
    "    for index, row in df.iterrows():\n",
    "        a=row.index\n",
    "        a={}\n",
    "        a['name']=row['name']\n",
    "        a['neighborhood']=row['neighborhood']\n",
    "        a['price']=row['price']\n",
    "        a['lat']=row['coordinates'][0]\n",
    "        a['lng']=row['coordinates'][1]\n",
    "        a['url']=row['url']\n",
    "        bars.append(a)\n",
    "    \n",
    "    return bars\n",
    "        "
   ]
  },
  {
   "cell_type": "code",
   "execution_count": null,
   "metadata": {},
   "outputs": [],
   "source": [
    "# below is the final function used in my bar app"
   ]
  },
  {
   "cell_type": "code",
   "execution_count": null,
   "metadata": {},
   "outputs": [],
   "source": [
    "def return_bars(bar, d=1, number=10):\n",
    "    \n",
    "    '''Will ultimately take a bar, radius, and number (n) and return closest (n) bars in radius (d)  in terms of \n",
    "    vibe/type  to iniitial bar'''\n",
    "    \n",
    "    def find_nearest_bars(bar, d=1 ,number=10):\n",
    "        from math import radians, cos, sin, asin, sqrt\n",
    "        import pandas as pd\n",
    "\n",
    "        def haversine(lon1, lat1, lon2, lat2):\n",
    "            \"\"\"\n",
    "            Calculate the great circle distance between two points \n",
    "            on the earth (specified in decimal degrees)\n",
    "            \"\"\"\n",
    "            # convert decimal degrees to radians \n",
    "            lon1, lat1, lon2, lat2 = map(radians, [lon1, lat1, lon2, lat2])\n",
    "\n",
    "            # haversine formula \n",
    "            dlon = lon2 - lon1 \n",
    "            dlat = lat2 - lat1 \n",
    "            a = sin(dlat/2)**2 + cos(lat1) * cos(lat2) * sin(dlon/2)**2\n",
    "            c = 2 * asin(sqrt(a)) \n",
    "            r = 3956 # For miles\n",
    "            return c * r\n",
    "\n",
    "        def is_in_area(center_lon, center_lat, test_lon, test_lat, radius = 1):\n",
    "            '''Will determine if lat,lng is within radius of desired point'''\n",
    "            a = haversine(center_lon, center_lat, test_lon, test_lat)\n",
    "            if a <= radius:\n",
    "                return True\n",
    "            return False\n",
    "\n",
    "\n",
    "        import jellyfish\n",
    "\n",
    "        def get_closest_match(x, list_strings):\n",
    "            \n",
    "            '''Will return string that best matches list of strings according to jaro winkler score'''\n",
    "\n",
    "            best_score= 0\n",
    "            best_match=None\n",
    "\n",
    "            for title in list_strings:\n",
    "\n",
    "                current_score=jellyfish.jaro_winkler(x, title)\n",
    "\n",
    "                if current_score > best_score:\n",
    "                    best_score = current_score\n",
    "                    best_match = title \n",
    "\n",
    "            if best_score > 0.75:\n",
    "                return best_match\n",
    "\n",
    "            else:\n",
    "                return None\n",
    "\n",
    "\n",
    "        bar = get_closest_match(bar, bars_df.index)\n",
    "\n",
    "        bool_array=[] \n",
    "\n",
    "        for i in bars_df['coordinates']: # make a boolean array of whether bars are within radius of desired bar\n",
    "\n",
    "            try:\n",
    "                bool_array.append(is_in_area(bars_df[bars_df.index==bar]['coordinates'][0][0]\\\n",
    "                                             ,bars_df[bars_df.index==bar]['coordinates'][0][1],\\\n",
    "                                             i[0],i[1], radius=d))\n",
    "\n",
    "            except:\n",
    "                bool_array.append(None)\n",
    "\n",
    "        bool_dict=dict(zip(bars_df.index,bool_array)) # create dict of bar name:True/False whether in desired radius\n",
    "\n",
    "        bool_df=pd.Series(bool_dict).to_frame()\n",
    "\n",
    "        matching_bars=sims_df.join(bool_df[bool_df[0]==True], how='inner') #dataframe containing only bars within radius\n",
    "\n",
    "        final_bars=bars_df.join(matching_bars[bar].sort_values(ascending=False)[0:number+1], how='right')\n",
    "\n",
    "        return final_bars.sort_values(by=bar, ascending=False) #returns list of bars by closest cosine similarity\n",
    "\n",
    "\n",
    "    def pack_bars(df):\n",
    "        '''Will take resuls of finding nearest bars and return a list of bar dictionaries containing relevant info'''\n",
    "        \n",
    "        import operator\n",
    "        \n",
    "        bars=[]\n",
    "\n",
    "        for index, row in df.iterrows():\n",
    "            a=row.index\n",
    "            a={}\n",
    "            a['name']=row['name']\n",
    "            a['neighborhood']=row['neighborhood']\n",
    "            a['price']=row['price']\n",
    "            a['lat']=row['coordinates'][0]\n",
    "            a['lng']=row['coordinates'][1]\n",
    "            a['url']=row['url']\n",
    "            bars.append(a)\n",
    "\n",
    "        bars.sort(key=operator.itemgetter('lng')) #arrange bars by longitude coordinate\n",
    "        \n",
    "        return bars\n",
    "\n",
    "\n",
    "    \n",
    "    return pack_bars(find_nearest_bars(bar, d, number))\n",
    "\n",
    "    \n",
    "    \n",
    "               "
   ]
  },
  {
   "cell_type": "code",
   "execution_count": null,
   "metadata": {},
   "outputs": [],
   "source": []
  }
 ],
 "metadata": {
  "kernelspec": {
   "display_name": "Python 3",
   "language": "python",
   "name": "python3"
  },
  "language_info": {
   "codemirror_mode": {
    "name": "ipython",
    "version": 3
   },
   "file_extension": ".py",
   "mimetype": "text/x-python",
   "name": "python",
   "nbconvert_exporter": "python",
   "pygments_lexer": "ipython3",
   "version": "3.6.4"
  }
 },
 "nbformat": 4,
 "nbformat_minor": 2
}
